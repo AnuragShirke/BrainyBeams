{
 "cells": [
  {
   "cell_type": "markdown",
   "id": "18e75ee8-2202-4902-a06b-a7386fba1629",
   "metadata": {},
   "source": [
    "## Analyzing a 10x20 DataFrame with Machine Learning"
   ]
  },
  {
   "cell_type": "markdown",
   "id": "dcd599c1-2e95-4b36-9530-a2e0c900a3b6",
   "metadata": {},
   "source": [
    "### Create one DataFrame which is having 10 columns and 20 rows (And it should me meaning full) and apply one machine learning model also."
   ]
  },
  {
   "cell_type": "markdown",
   "id": "a8b42759-1e72-46bc-a60a-b5e564bdebae",
   "metadata": {},
   "source": [
    "### 1.Data Generation"
   ]
  },
  {
   "cell_type": "code",
   "execution_count": 1,
   "id": "a2017d7d-911c-4289-84aa-0ebf142dc5c2",
   "metadata": {},
   "outputs": [],
   "source": [
    "import pandas as pd\n",
    "import numpy as np"
   ]
  },
  {
   "cell_type": "code",
   "execution_count": 3,
   "id": "7adb0a30-3fab-491d-b19f-e7869be6f15e",
   "metadata": {},
   "outputs": [],
   "source": [
    "np.random.seed(42)\n",
    "data = {\n",
    "    \"StudentID\": range(1, 21),\n",
    "    \"Age\": np.random.randint(18, 25, size=20),\n",
    "    \"Gender\": np.random.choice(['Male', 'Female'], size=20),\n",
    "    \"StudyHours\": np.random.randint(5, 20, size=20),\n",
    "    \"Attendance\": np.random.randint(60, 100, size=20),\n",
    "    \"ParentalEducation\": np.random.randint(1, 4, size=20),\n",
    "    \"PreviousScores\": np.random.randint(50, 90, size=20),\n",
    "    \"Participation\": np.random.randint(1, 6, size=20),\n",
    "    \"AssignmentsCompleted\": np.random.randint(5, 10, size=20)\n",
    "}"
   ]
  },
  {
   "cell_type": "code",
   "execution_count": 5,
   "id": "5f4f5f76-5679-4a4f-a965-0e40789e0fb3",
   "metadata": {},
   "outputs": [],
   "source": [
    "df=pd.DataFrame(data)"
   ]
  },
  {
   "cell_type": "code",
   "execution_count": 7,
   "id": "61924c04-5219-4ae7-933c-80bfc4c52885",
   "metadata": {},
   "outputs": [],
   "source": [
    "df['Pass'] = ((df['StudyHours'] > 8) & (df['Attendance'] > 60) & (df['PreviousScores'] > 45)).astype(int)"
   ]
  },
  {
   "cell_type": "code",
   "execution_count": 9,
   "id": "992de6fe-4293-4247-a8b1-830274d6b32b",
   "metadata": {},
   "outputs": [
    {
     "data": {
      "text/html": [
       "<div>\n",
       "<style scoped>\n",
       "    .dataframe tbody tr th:only-of-type {\n",
       "        vertical-align: middle;\n",
       "    }\n",
       "\n",
       "    .dataframe tbody tr th {\n",
       "        vertical-align: top;\n",
       "    }\n",
       "\n",
       "    .dataframe thead th {\n",
       "        text-align: right;\n",
       "    }\n",
       "</style>\n",
       "<table border=\"1\" class=\"dataframe\">\n",
       "  <thead>\n",
       "    <tr style=\"text-align: right;\">\n",
       "      <th></th>\n",
       "      <th>StudentID</th>\n",
       "      <th>Age</th>\n",
       "      <th>Gender</th>\n",
       "      <th>StudyHours</th>\n",
       "      <th>Attendance</th>\n",
       "      <th>ParentalEducation</th>\n",
       "      <th>PreviousScores</th>\n",
       "      <th>Participation</th>\n",
       "      <th>AssignmentsCompleted</th>\n",
       "      <th>Pass</th>\n",
       "    </tr>\n",
       "  </thead>\n",
       "  <tbody>\n",
       "    <tr>\n",
       "      <th>0</th>\n",
       "      <td>1</td>\n",
       "      <td>24</td>\n",
       "      <td>Female</td>\n",
       "      <td>16</td>\n",
       "      <td>84</td>\n",
       "      <td>2</td>\n",
       "      <td>78</td>\n",
       "      <td>1</td>\n",
       "      <td>8</td>\n",
       "      <td>1</td>\n",
       "    </tr>\n",
       "    <tr>\n",
       "      <th>1</th>\n",
       "      <td>2</td>\n",
       "      <td>21</td>\n",
       "      <td>Female</td>\n",
       "      <td>19</td>\n",
       "      <td>73</td>\n",
       "      <td>2</td>\n",
       "      <td>64</td>\n",
       "      <td>4</td>\n",
       "      <td>9</td>\n",
       "      <td>1</td>\n",
       "    </tr>\n",
       "    <tr>\n",
       "      <th>2</th>\n",
       "      <td>3</td>\n",
       "      <td>22</td>\n",
       "      <td>Female</td>\n",
       "      <td>18</td>\n",
       "      <td>68</td>\n",
       "      <td>2</td>\n",
       "      <td>50</td>\n",
       "      <td>2</td>\n",
       "      <td>7</td>\n",
       "      <td>1</td>\n",
       "    </tr>\n",
       "    <tr>\n",
       "      <th>3</th>\n",
       "      <td>4</td>\n",
       "      <td>24</td>\n",
       "      <td>Female</td>\n",
       "      <td>18</td>\n",
       "      <td>85</td>\n",
       "      <td>2</td>\n",
       "      <td>74</td>\n",
       "      <td>1</td>\n",
       "      <td>5</td>\n",
       "      <td>1</td>\n",
       "    </tr>\n",
       "    <tr>\n",
       "      <th>4</th>\n",
       "      <td>5</td>\n",
       "      <td>20</td>\n",
       "      <td>Female</td>\n",
       "      <td>19</td>\n",
       "      <td>61</td>\n",
       "      <td>2</td>\n",
       "      <td>56</td>\n",
       "      <td>5</td>\n",
       "      <td>8</td>\n",
       "      <td>1</td>\n",
       "    </tr>\n",
       "    <tr>\n",
       "      <th>5</th>\n",
       "      <td>6</td>\n",
       "      <td>22</td>\n",
       "      <td>Male</td>\n",
       "      <td>18</td>\n",
       "      <td>79</td>\n",
       "      <td>3</td>\n",
       "      <td>58</td>\n",
       "      <td>3</td>\n",
       "      <td>9</td>\n",
       "      <td>1</td>\n",
       "    </tr>\n",
       "    <tr>\n",
       "      <th>6</th>\n",
       "      <td>7</td>\n",
       "      <td>22</td>\n",
       "      <td>Male</td>\n",
       "      <td>7</td>\n",
       "      <td>87</td>\n",
       "      <td>3</td>\n",
       "      <td>73</td>\n",
       "      <td>4</td>\n",
       "      <td>8</td>\n",
       "      <td>0</td>\n",
       "    </tr>\n",
       "    <tr>\n",
       "      <th>7</th>\n",
       "      <td>8</td>\n",
       "      <td>24</td>\n",
       "      <td>Female</td>\n",
       "      <td>16</td>\n",
       "      <td>66</td>\n",
       "      <td>2</td>\n",
       "      <td>50</td>\n",
       "      <td>3</td>\n",
       "      <td>9</td>\n",
       "      <td>1</td>\n",
       "    </tr>\n",
       "    <tr>\n",
       "      <th>8</th>\n",
       "      <td>9</td>\n",
       "      <td>19</td>\n",
       "      <td>Female</td>\n",
       "      <td>11</td>\n",
       "      <td>67</td>\n",
       "      <td>3</td>\n",
       "      <td>57</td>\n",
       "      <td>3</td>\n",
       "      <td>9</td>\n",
       "      <td>1</td>\n",
       "    </tr>\n",
       "    <tr>\n",
       "      <th>9</th>\n",
       "      <td>10</td>\n",
       "      <td>20</td>\n",
       "      <td>Female</td>\n",
       "      <td>8</td>\n",
       "      <td>94</td>\n",
       "      <td>1</td>\n",
       "      <td>73</td>\n",
       "      <td>1</td>\n",
       "      <td>7</td>\n",
       "      <td>0</td>\n",
       "    </tr>\n",
       "    <tr>\n",
       "      <th>10</th>\n",
       "      <td>11</td>\n",
       "      <td>24</td>\n",
       "      <td>Male</td>\n",
       "      <td>13</td>\n",
       "      <td>73</td>\n",
       "      <td>2</td>\n",
       "      <td>60</td>\n",
       "      <td>3</td>\n",
       "      <td>9</td>\n",
       "      <td>1</td>\n",
       "    </tr>\n",
       "    <tr>\n",
       "      <th>11</th>\n",
       "      <td>12</td>\n",
       "      <td>20</td>\n",
       "      <td>Female</td>\n",
       "      <td>7</td>\n",
       "      <td>76</td>\n",
       "      <td>1</td>\n",
       "      <td>66</td>\n",
       "      <td>5</td>\n",
       "      <td>8</td>\n",
       "      <td>0</td>\n",
       "    </tr>\n",
       "    <tr>\n",
       "      <th>12</th>\n",
       "      <td>13</td>\n",
       "      <td>20</td>\n",
       "      <td>Male</td>\n",
       "      <td>9</td>\n",
       "      <td>95</td>\n",
       "      <td>1</td>\n",
       "      <td>57</td>\n",
       "      <td>3</td>\n",
       "      <td>9</td>\n",
       "      <td>1</td>\n",
       "    </tr>\n",
       "    <tr>\n",
       "      <th>13</th>\n",
       "      <td>14</td>\n",
       "      <td>22</td>\n",
       "      <td>Male</td>\n",
       "      <td>7</td>\n",
       "      <td>99</td>\n",
       "      <td>2</td>\n",
       "      <td>84</td>\n",
       "      <td>1</td>\n",
       "      <td>7</td>\n",
       "      <td>0</td>\n",
       "    </tr>\n",
       "    <tr>\n",
       "      <th>14</th>\n",
       "      <td>15</td>\n",
       "      <td>21</td>\n",
       "      <td>Male</td>\n",
       "      <td>11</td>\n",
       "      <td>63</td>\n",
       "      <td>3</td>\n",
       "      <td>84</td>\n",
       "      <td>5</td>\n",
       "      <td>7</td>\n",
       "      <td>1</td>\n",
       "    </tr>\n",
       "    <tr>\n",
       "      <th>15</th>\n",
       "      <td>16</td>\n",
       "      <td>20</td>\n",
       "      <td>Male</td>\n",
       "      <td>9</td>\n",
       "      <td>61</td>\n",
       "      <td>1</td>\n",
       "      <td>82</td>\n",
       "      <td>2</td>\n",
       "      <td>8</td>\n",
       "      <td>1</td>\n",
       "    </tr>\n",
       "    <tr>\n",
       "      <th>16</th>\n",
       "      <td>17</td>\n",
       "      <td>23</td>\n",
       "      <td>Male</td>\n",
       "      <td>13</td>\n",
       "      <td>65</td>\n",
       "      <td>2</td>\n",
       "      <td>54</td>\n",
       "      <td>3</td>\n",
       "      <td>6</td>\n",
       "      <td>1</td>\n",
       "    </tr>\n",
       "    <tr>\n",
       "      <th>17</th>\n",
       "      <td>18</td>\n",
       "      <td>22</td>\n",
       "      <td>Female</td>\n",
       "      <td>11</td>\n",
       "      <td>63</td>\n",
       "      <td>1</td>\n",
       "      <td>88</td>\n",
       "      <td>1</td>\n",
       "      <td>6</td>\n",
       "      <td>1</td>\n",
       "    </tr>\n",
       "    <tr>\n",
       "      <th>18</th>\n",
       "      <td>19</td>\n",
       "      <td>19</td>\n",
       "      <td>Female</td>\n",
       "      <td>6</td>\n",
       "      <td>88</td>\n",
       "      <td>1</td>\n",
       "      <td>77</td>\n",
       "      <td>2</td>\n",
       "      <td>9</td>\n",
       "      <td>0</td>\n",
       "    </tr>\n",
       "    <tr>\n",
       "      <th>19</th>\n",
       "      <td>20</td>\n",
       "      <td>21</td>\n",
       "      <td>Female</td>\n",
       "      <td>8</td>\n",
       "      <td>77</td>\n",
       "      <td>1</td>\n",
       "      <td>56</td>\n",
       "      <td>2</td>\n",
       "      <td>5</td>\n",
       "      <td>0</td>\n",
       "    </tr>\n",
       "  </tbody>\n",
       "</table>\n",
       "</div>"
      ],
      "text/plain": [
       "    StudentID  Age  Gender  StudyHours  Attendance  ParentalEducation  \\\n",
       "0           1   24  Female          16          84                  2   \n",
       "1           2   21  Female          19          73                  2   \n",
       "2           3   22  Female          18          68                  2   \n",
       "3           4   24  Female          18          85                  2   \n",
       "4           5   20  Female          19          61                  2   \n",
       "5           6   22    Male          18          79                  3   \n",
       "6           7   22    Male           7          87                  3   \n",
       "7           8   24  Female          16          66                  2   \n",
       "8           9   19  Female          11          67                  3   \n",
       "9          10   20  Female           8          94                  1   \n",
       "10         11   24    Male          13          73                  2   \n",
       "11         12   20  Female           7          76                  1   \n",
       "12         13   20    Male           9          95                  1   \n",
       "13         14   22    Male           7          99                  2   \n",
       "14         15   21    Male          11          63                  3   \n",
       "15         16   20    Male           9          61                  1   \n",
       "16         17   23    Male          13          65                  2   \n",
       "17         18   22  Female          11          63                  1   \n",
       "18         19   19  Female           6          88                  1   \n",
       "19         20   21  Female           8          77                  1   \n",
       "\n",
       "    PreviousScores  Participation  AssignmentsCompleted  Pass  \n",
       "0               78              1                     8     1  \n",
       "1               64              4                     9     1  \n",
       "2               50              2                     7     1  \n",
       "3               74              1                     5     1  \n",
       "4               56              5                     8     1  \n",
       "5               58              3                     9     1  \n",
       "6               73              4                     8     0  \n",
       "7               50              3                     9     1  \n",
       "8               57              3                     9     1  \n",
       "9               73              1                     7     0  \n",
       "10              60              3                     9     1  \n",
       "11              66              5                     8     0  \n",
       "12              57              3                     9     1  \n",
       "13              84              1                     7     0  \n",
       "14              84              5                     7     1  \n",
       "15              82              2                     8     1  \n",
       "16              54              3                     6     1  \n",
       "17              88              1                     6     1  \n",
       "18              77              2                     9     0  \n",
       "19              56              2                     5     0  "
      ]
     },
     "execution_count": 9,
     "metadata": {},
     "output_type": "execute_result"
    }
   ],
   "source": [
    "df"
   ]
  },
  {
   "cell_type": "markdown",
   "id": "fc192b76-5e98-4b9a-8350-a3ab2f54b814",
   "metadata": {},
   "source": [
    "## 2.Data Preprocessing"
   ]
  },
  {
   "cell_type": "code",
   "execution_count": 12,
   "id": "bc0433dc-47e4-4c6f-9b23-cc9fe7249c3f",
   "metadata": {},
   "outputs": [],
   "source": [
    "# One Hot Encoding For 'Gender'\n",
    "df_encod = pd.get_dummies(df, columns=['Gender'], drop_first=True)"
   ]
  },
  {
   "cell_type": "code",
   "execution_count": 14,
   "id": "0517bb78-e030-442c-a524-d0f12e1ec720",
   "metadata": {},
   "outputs": [],
   "source": [
    "# Dropping 'StudentID' and 'Pass'\n",
    "X = df_encod.drop(columns=['StudentID', 'Pass'])\n",
    "y = df_encod['Pass']"
   ]
  },
  {
   "cell_type": "markdown",
   "id": "ed165945-8a93-43f0-ae27-85ddc4f63947",
   "metadata": {},
   "source": [
    "## 3.Applying ML model"
   ]
  },
  {
   "cell_type": "code",
   "execution_count": 17,
   "id": "94a4ce89-6d7a-43ff-9c1e-dc27adb116b2",
   "metadata": {},
   "outputs": [],
   "source": [
    "# Splitting into training and Testing\n",
    "from sklearn.model_selection import train_test_split\n",
    "X_train, X_test, y_train, y_test = train_test_split(X, y, test_size=0.2, random_state=42)"
   ]
  },
  {
   "cell_type": "code",
   "execution_count": 19,
   "id": "9ff971a3-2a61-4357-a3d3-85b2b38841ab",
   "metadata": {},
   "outputs": [
    {
     "name": "stderr",
     "output_type": "stream",
     "text": [
      "C:\\Users\\anura\\AppData\\Roaming\\Python\\Python311\\site-packages\\sklearn\\linear_model\\_logistic.py:460: ConvergenceWarning: lbfgs failed to converge (status=1):\n",
      "STOP: TOTAL NO. of ITERATIONS REACHED LIMIT.\n",
      "\n",
      "Increase the number of iterations (max_iter) or scale the data as shown in:\n",
      "    https://scikit-learn.org/stable/modules/preprocessing.html\n",
      "Please also refer to the documentation for alternative solver options:\n",
      "    https://scikit-learn.org/stable/modules/linear_model.html#logistic-regression\n",
      "  n_iter_i = _check_optimize_result(\n"
     ]
    },
    {
     "data": {
      "text/html": [
       "<style>#sk-container-id-1 {color: black;}#sk-container-id-1 pre{padding: 0;}#sk-container-id-1 div.sk-toggleable {background-color: white;}#sk-container-id-1 label.sk-toggleable__label {cursor: pointer;display: block;width: 100%;margin-bottom: 0;padding: 0.3em;box-sizing: border-box;text-align: center;}#sk-container-id-1 label.sk-toggleable__label-arrow:before {content: \"▸\";float: left;margin-right: 0.25em;color: #696969;}#sk-container-id-1 label.sk-toggleable__label-arrow:hover:before {color: black;}#sk-container-id-1 div.sk-estimator:hover label.sk-toggleable__label-arrow:before {color: black;}#sk-container-id-1 div.sk-toggleable__content {max-height: 0;max-width: 0;overflow: hidden;text-align: left;background-color: #f0f8ff;}#sk-container-id-1 div.sk-toggleable__content pre {margin: 0.2em;color: black;border-radius: 0.25em;background-color: #f0f8ff;}#sk-container-id-1 input.sk-toggleable__control:checked~div.sk-toggleable__content {max-height: 200px;max-width: 100%;overflow: auto;}#sk-container-id-1 input.sk-toggleable__control:checked~label.sk-toggleable__label-arrow:before {content: \"▾\";}#sk-container-id-1 div.sk-estimator input.sk-toggleable__control:checked~label.sk-toggleable__label {background-color: #d4ebff;}#sk-container-id-1 div.sk-label input.sk-toggleable__control:checked~label.sk-toggleable__label {background-color: #d4ebff;}#sk-container-id-1 input.sk-hidden--visually {border: 0;clip: rect(1px 1px 1px 1px);clip: rect(1px, 1px, 1px, 1px);height: 1px;margin: -1px;overflow: hidden;padding: 0;position: absolute;width: 1px;}#sk-container-id-1 div.sk-estimator {font-family: monospace;background-color: #f0f8ff;border: 1px dotted black;border-radius: 0.25em;box-sizing: border-box;margin-bottom: 0.5em;}#sk-container-id-1 div.sk-estimator:hover {background-color: #d4ebff;}#sk-container-id-1 div.sk-parallel-item::after {content: \"\";width: 100%;border-bottom: 1px solid gray;flex-grow: 1;}#sk-container-id-1 div.sk-label:hover label.sk-toggleable__label {background-color: #d4ebff;}#sk-container-id-1 div.sk-serial::before {content: \"\";position: absolute;border-left: 1px solid gray;box-sizing: border-box;top: 0;bottom: 0;left: 50%;z-index: 0;}#sk-container-id-1 div.sk-serial {display: flex;flex-direction: column;align-items: center;background-color: white;padding-right: 0.2em;padding-left: 0.2em;position: relative;}#sk-container-id-1 div.sk-item {position: relative;z-index: 1;}#sk-container-id-1 div.sk-parallel {display: flex;align-items: stretch;justify-content: center;background-color: white;position: relative;}#sk-container-id-1 div.sk-item::before, #sk-container-id-1 div.sk-parallel-item::before {content: \"\";position: absolute;border-left: 1px solid gray;box-sizing: border-box;top: 0;bottom: 0;left: 50%;z-index: -1;}#sk-container-id-1 div.sk-parallel-item {display: flex;flex-direction: column;z-index: 1;position: relative;background-color: white;}#sk-container-id-1 div.sk-parallel-item:first-child::after {align-self: flex-end;width: 50%;}#sk-container-id-1 div.sk-parallel-item:last-child::after {align-self: flex-start;width: 50%;}#sk-container-id-1 div.sk-parallel-item:only-child::after {width: 0;}#sk-container-id-1 div.sk-dashed-wrapped {border: 1px dashed gray;margin: 0 0.4em 0.5em 0.4em;box-sizing: border-box;padding-bottom: 0.4em;background-color: white;}#sk-container-id-1 div.sk-label label {font-family: monospace;font-weight: bold;display: inline-block;line-height: 1.2em;}#sk-container-id-1 div.sk-label-container {text-align: center;}#sk-container-id-1 div.sk-container {/* jupyter's `normalize.less` sets `[hidden] { display: none; }` but bootstrap.min.css set `[hidden] { display: none !important; }` so we also need the `!important` here to be able to override the default hidden behavior on the sphinx rendered scikit-learn.org. See: https://github.com/scikit-learn/scikit-learn/issues/21755 */display: inline-block !important;position: relative;}#sk-container-id-1 div.sk-text-repr-fallback {display: none;}</style><div id=\"sk-container-id-1\" class=\"sk-top-container\"><div class=\"sk-text-repr-fallback\"><pre>LogisticRegression()</pre><b>In a Jupyter environment, please rerun this cell to show the HTML representation or trust the notebook. <br />On GitHub, the HTML representation is unable to render, please try loading this page with nbviewer.org.</b></div><div class=\"sk-container\" hidden><div class=\"sk-item\"><div class=\"sk-estimator sk-toggleable\"><input class=\"sk-toggleable__control sk-hidden--visually\" id=\"sk-estimator-id-1\" type=\"checkbox\" checked><label for=\"sk-estimator-id-1\" class=\"sk-toggleable__label sk-toggleable__label-arrow\">LogisticRegression</label><div class=\"sk-toggleable__content\"><pre>LogisticRegression()</pre></div></div></div></div></div>"
      ],
      "text/plain": [
       "LogisticRegression()"
      ]
     },
     "execution_count": 19,
     "metadata": {},
     "output_type": "execute_result"
    }
   ],
   "source": [
    "# Applying Logistic Regression\n",
    "from sklearn.linear_model import LogisticRegression\n",
    "model = LogisticRegression()\n",
    "model.fit(X_train, y_train)"
   ]
  },
  {
   "cell_type": "code",
   "execution_count": 21,
   "id": "bcd40fd0-7d91-4ea9-86f1-11f40cd8d503",
   "metadata": {},
   "outputs": [],
   "source": [
    "y_pred = model.predict(X_test)"
   ]
  },
  {
   "cell_type": "code",
   "execution_count": 23,
   "id": "a0d22327-f5d1-410d-9b53-42038a747af4",
   "metadata": {},
   "outputs": [
    {
     "name": "stderr",
     "output_type": "stream",
     "text": [
      "C:\\Users\\anura\\AppData\\Roaming\\Python\\Python311\\site-packages\\sklearn\\metrics\\_classification.py:1469: UndefinedMetricWarning: Recall and F-score are ill-defined and being set to 0.0 in labels with no true samples. Use `zero_division` parameter to control this behavior.\n",
      "  _warn_prf(average, modifier, msg_start, len(result))\n",
      "C:\\Users\\anura\\AppData\\Roaming\\Python\\Python311\\site-packages\\sklearn\\metrics\\_classification.py:1469: UndefinedMetricWarning: Recall and F-score are ill-defined and being set to 0.0 in labels with no true samples. Use `zero_division` parameter to control this behavior.\n",
      "  _warn_prf(average, modifier, msg_start, len(result))\n",
      "C:\\Users\\anura\\AppData\\Roaming\\Python\\Python311\\site-packages\\sklearn\\metrics\\_classification.py:1469: UndefinedMetricWarning: Recall and F-score are ill-defined and being set to 0.0 in labels with no true samples. Use `zero_division` parameter to control this behavior.\n",
      "  _warn_prf(average, modifier, msg_start, len(result))\n"
     ]
    }
   ],
   "source": [
    "from sklearn.metrics import accuracy_score, classification_report\n",
    "acc = accuracy_score(y_test, y_pred)\n",
    "report = classification_report(y_test, y_pred)"
   ]
  },
  {
   "cell_type": "code",
   "execution_count": 25,
   "id": "ee12c23b-c8b4-46b4-96e7-e79009e01083",
   "metadata": {},
   "outputs": [
    {
     "name": "stdout",
     "output_type": "stream",
     "text": [
      "Accuracy: 0.5\n"
     ]
    }
   ],
   "source": [
    "print(\"Accuracy:\", acc)"
   ]
  },
  {
   "cell_type": "markdown",
   "id": "f15ef574-a36e-4a27-803a-f4be6de4794d",
   "metadata": {},
   "source": [
    "### As The DataFrame size is to small,So the model is getting Underfitted"
   ]
  },
  {
   "cell_type": "code",
   "execution_count": 28,
   "id": "042d669d-ce4c-43d1-ac90-fce50f606616",
   "metadata": {},
   "outputs": [
    {
     "name": "stdout",
     "output_type": "stream",
     "text": [
      "\n",
      "Classification Report:\n",
      "               precision    recall  f1-score   support\n",
      "\n",
      "           0       0.00      0.00      0.00         0\n",
      "           1       1.00      0.50      0.67         4\n",
      "\n",
      "    accuracy                           0.50         4\n",
      "   macro avg       0.50      0.25      0.33         4\n",
      "weighted avg       1.00      0.50      0.67         4\n",
      "\n"
     ]
    }
   ],
   "source": [
    "print(\"\\nClassification Report:\\n\", report)"
   ]
  },
  {
   "cell_type": "markdown",
   "id": "ef3efe19-d2d8-4cc5-96e3-c5f117668714",
   "metadata": {},
   "source": [
    "### Predicting On Custom DataPoint"
   ]
  },
  {
   "cell_type": "code",
   "execution_count": 31,
   "id": "ba9f18ed-3389-4e6a-af35-8fbc364867ba",
   "metadata": {},
   "outputs": [],
   "source": [
    "custom = pd.DataFrame({\n",
    "    \"Age\": [21],\n",
    "    \"Gender\": ['Male'],\n",
    "    \"StudyHours\": [12],\n",
    "    \"Attendance\": [85],\n",
    "    \"ParentalEducation\": [2],\n",
    "    \"PreviousScores\": [75],\n",
    "    \"Participation\": [4],\n",
    "    \"AssignmentsCompleted\": [8]\n",
    "})"
   ]
  },
  {
   "cell_type": "code",
   "execution_count": 33,
   "id": "c7c5968a-2b53-49b0-8943-41e1d51e2b7b",
   "metadata": {},
   "outputs": [],
   "source": [
    "custom_encoded = pd.get_dummies(custom, columns=['Gender'], drop_first=True)"
   ]
  },
  {
   "cell_type": "code",
   "execution_count": 35,
   "id": "b849e5f4-2ede-4946-ad41-c4c0ec17bf49",
   "metadata": {},
   "outputs": [],
   "source": [
    "for col in X.columns:\n",
    "    if col not in custom_encoded.columns:\n",
    "        custom_encoded[col] = 0"
   ]
  },
  {
   "cell_type": "code",
   "execution_count": 37,
   "id": "b4b360ba-2e13-4bf7-b49d-f71e00e18fb9",
   "metadata": {},
   "outputs": [],
   "source": [
    "custom_encoded = custom_encoded[X.columns]"
   ]
  },
  {
   "cell_type": "code",
   "execution_count": 39,
   "id": "bb2c5fbb-5140-4141-86e1-b4fde3c1b1d7",
   "metadata": {},
   "outputs": [],
   "source": [
    "prediction = model.predict(custom_encoded)\n",
    "custom['Predicted Pass'] = prediction"
   ]
  },
  {
   "cell_type": "code",
   "execution_count": 41,
   "id": "0575315f-baa0-4434-849a-4f7e85ac3c38",
   "metadata": {},
   "outputs": [
    {
     "name": "stdout",
     "output_type": "stream",
     "text": [
      "   Age Gender  StudyHours  Attendance  ParentalEducation  PreviousScores  \\\n",
      "0   21   Male          12          85                  2              75   \n",
      "\n",
      "   Participation  AssignmentsCompleted  Predicted Pass  \n",
      "0              4                     8               1  \n"
     ]
    }
   ],
   "source": [
    "print(custom)"
   ]
  }
 ],
 "metadata": {
  "kernelspec": {
   "display_name": "Python 3 (ipykernel)",
   "language": "python",
   "name": "python3"
  },
  "language_info": {
   "codemirror_mode": {
    "name": "ipython",
    "version": 3
   },
   "file_extension": ".py",
   "mimetype": "text/x-python",
   "name": "python",
   "nbconvert_exporter": "python",
   "pygments_lexer": "ipython3",
   "version": "3.11.10"
  }
 },
 "nbformat": 4,
 "nbformat_minor": 5
}
