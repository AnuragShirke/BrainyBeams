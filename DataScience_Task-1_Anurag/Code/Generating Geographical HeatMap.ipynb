{
 "cells": [
  {
   "cell_type": "markdown",
   "id": "7a0405a1-5a4e-43ac-b6cf-202e539d3b38",
   "metadata": {},
   "source": [
    "## Generating Geographical Heatmap"
   ]
  },
  {
   "cell_type": "markdown",
   "id": "2a753b6d-a8a8-4f65-bcc6-e367efd6c7a0",
   "metadata": {},
   "source": [
    "### Create a geographical heatmap using Matplotlib and geographical data."
   ]
  },
  {
   "cell_type": "code",
   "execution_count": 1,
   "id": "fb300d8e",
   "metadata": {},
   "outputs": [],
   "source": [
    "import pandas as pd\n",
    "import geopandas as gpd\n",
    "import matplotlib.pyplot as plt\n",
    "import numpy as np\n",
    "from matplotlib.colors import LinearSegmentedColormap"
   ]
  },
  {
   "cell_type": "code",
   "execution_count": 2,
   "id": "cb5cbc9c",
   "metadata": {},
   "outputs": [],
   "source": [
    "def create_geographical_heatmap(shapefile_path, data_path=None):\n",
    "    world = gpd.read_file(shapefile_path)\n",
    "     \n",
    "    if data_path is None:\n",
    "        np.random.seed(42)\n",
    "        world['value'] = np.random.uniform(0, 100, len(world))\n",
    "    else:\n",
    "        data = pd.read_csv(data_path)\n",
    "        world = world.merge(data, how='left', left_on=['NAME'], right_on=['country'])\n",
    "    \n",
    "    colors = ['#e30b5c', '#ff0000', '#c21e56', '#e0115f', '#ff2400', '#e34234', '#ff4433', '#faa0a0']\n",
    "    custom_cmap = LinearSegmentedColormap.from_list('custom_blues', colors)\n",
    "    \n",
    "    fig, ax = plt.subplots(1, 1, figsize=(20, 10))\n",
    "    \n",
    "    world.plot(\n",
    "        column='value',\n",
    "        ax=ax,\n",
    "        legend=True,\n",
    "        legend_kwds={\n",
    "            'label': 'Value',\n",
    "            'orientation': 'vertical',\n",
    "            'shrink': 0.6\n",
    "        },\n",
    "        missing_kwds={'color': 'lightgrey'},\n",
    "        cmap=custom_cmap\n",
    "    )\n",
    "    \n",
    "    ax.set_title('Geographical Heatmap', fontsize=16, pad=20)\n",
    "    ax.axis('off')\n",
    "    \n",
    "    stats_text = (\n",
    "        f\"Data Summary:\\n\"\n",
    "        f\"Mean: {world['value'].mean():.1f}\\n\"\n",
    "        f\"Min: {world['value'].min():.1f}\\n\"\n",
    "        f\"Max: {world['value'].max():.1f}\"\n",
    "    )\n",
    "    plt.text(\n",
    "        0.02, 0.15, stats_text,\n",
    "        transform=ax.transAxes,\n",
    "        bbox=dict(facecolor='white', alpha=0.8),\n",
    "        fontsize=10\n",
    "    )\n",
    "    \n",
    "    return fig"
   ]
  },
  {
   "cell_type": "code",
   "execution_count": 3,
   "id": "42ad361d",
   "metadata": {},
   "outputs": [],
   "source": [
    "if __name__ == \"__main__\":\n",
    "    shapefile_path = r\"C:\\Users\\anura\\OneDrive\\Desktop\\BrainyBeams\\110m_cultural\\ne_110m_admin_0_countries.shp\"\n",
    "    \n",
    "    fig = create_geographical_heatmap(shapefile_path)\n",
    "    \n",
    "    if fig is not None:\n",
    "        plt.savefig('geographical_heatmap.png', dpi=300, bbox_inches='tight')\n",
    "        plt.close()"
   ]
  }
 ],
 "metadata": {
  "kernelspec": {
   "display_name": "Python 3 (ipykernel)",
   "language": "python",
   "name": "python3"
  },
  "language_info": {
   "codemirror_mode": {
    "name": "ipython",
    "version": 3
   },
   "file_extension": ".py",
   "mimetype": "text/x-python",
   "name": "python",
   "nbconvert_exporter": "python",
   "pygments_lexer": "ipython3",
   "version": "3.11.10"
  }
 },
 "nbformat": 4,
 "nbformat_minor": 5
}
