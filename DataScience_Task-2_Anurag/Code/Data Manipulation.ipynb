{
 "cells": [
  {
   "cell_type": "markdown",
   "id": "1301c88e-0d6b-473d-b841-12a5534d4b13",
   "metadata": {},
   "source": [
    "## DATA MANIPULATION"
   ]
  },
  {
   "cell_type": "markdown",
   "id": "dc6db8d1-abf2-49b7-8e71-f136ddecbd06",
   "metadata": {},
   "source": [
    "### Create a custom numpy data type and use it in an array."
   ]
  },
  {
   "cell_type": "code",
   "execution_count": 1,
   "id": "c0979a1c-b73f-4dfa-81c3-f9a8fbf2b6bf",
   "metadata": {},
   "outputs": [],
   "source": [
    "import numpy as np"
   ]
  },
  {
   "cell_type": "code",
   "execution_count": 2,
   "id": "35ce34d4-d845-460c-ad41-d4a7d98e7977",
   "metadata": {},
   "outputs": [],
   "source": [
    "# Creating a custom numpy datatype\n",
    "student_dtypes=np.dtype([\n",
    "    ('student_id','i8'),\n",
    "    ('name','U10'),\n",
    "    ('department','U10'),\n",
    "    ('CGPA','f4')\n",
    "])"
   ]
  },
  {
   "cell_type": "code",
   "execution_count": 3,
   "id": "3ea4c396-f6c4-4d6a-ac9b-682c76e2888d",
   "metadata": {},
   "outputs": [],
   "source": [
    "# using numpy datatype in an array\n",
    "student=np.array([\n",
    "    (210410116000,'xyz','CE',8.42),\n",
    "    (210410116001,'abc','CE',8.2),\n",
    "    (210410116000,'pqr','IT',7.42),\n",
    "    (210410116000,'lor','MCA',6.52)\n",
    "],dtype=student_dtypes)"
   ]
  },
  {
   "cell_type": "code",
   "execution_count": 4,
   "id": "c75ef74d-0942-4672-b8c6-e358c037814b",
   "metadata": {},
   "outputs": [
    {
     "name": "stdout",
     "output_type": "stream",
     "text": [
      "[(210410116000, 'xyz', 'CE', 8.42) (210410116001, 'abc', 'CE', 8.2 )\n",
      " (210410116000, 'pqr', 'IT', 7.42) (210410116000, 'lor', 'MCA', 6.52)]\n"
     ]
    }
   ],
   "source": [
    "print(student)"
   ]
  },
  {
   "cell_type": "code",
   "execution_count": 5,
   "id": "16044895-88c5-4e0d-8a61-2a9d6db18d53",
   "metadata": {},
   "outputs": [
    {
     "name": "stdout",
     "output_type": "stream",
     "text": [
      "[8.42 8.2  7.42 6.52]\n"
     ]
    }
   ],
   "source": [
    "print(student['CGPA'])"
   ]
  },
  {
   "cell_type": "code",
   "execution_count": 7,
   "id": "5ed3120b-4794-4d0a-b8ac-10576f8d7ba1",
   "metadata": {},
   "outputs": [
    {
     "name": "stdout",
     "output_type": "stream",
     "text": [
      "['xyz' 'abc' 'pqr' 'lor']\n"
     ]
    }
   ],
   "source": [
    "print(student['name'])"
   ]
  },
  {
   "cell_type": "code",
   "execution_count": null,
   "id": "cdcba57f-6509-4308-964d-467416589644",
   "metadata": {},
   "outputs": [],
   "source": []
  }
 ],
 "metadata": {
  "kernelspec": {
   "display_name": "Python 3 (ipykernel)",
   "language": "python",
   "name": "python3"
  },
  "language_info": {
   "codemirror_mode": {
    "name": "ipython",
    "version": 3
   },
   "file_extension": ".py",
   "mimetype": "text/x-python",
   "name": "python",
   "nbconvert_exporter": "python",
   "pygments_lexer": "ipython3",
   "version": "3.11.10"
  }
 },
 "nbformat": 4,
 "nbformat_minor": 5
}
